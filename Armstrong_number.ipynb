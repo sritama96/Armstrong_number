{
  "nbformat": 4,
  "nbformat_minor": 0,
  "metadata": {
    "colab": {
      "name": "Armstrong_number.ipynb",
      "provenance": []
    },
    "kernelspec": {
      "name": "python3",
      "display_name": "Python 3"
    }
  },
  "cells": [
    {
      "cell_type": "code",
      "metadata": {
        "id": "5kndZ9SJsIbp"
      },
      "source": [
        "def armstrong(n):\r\n",
        "    x = str(n)\r\n",
        "    l = len(x)\r\n",
        "    k = [0]*l\r\n",
        "    print(\"The given number is \"+ x)\r\n",
        "    \"\"\"An Armstrong number is a number such that the sum of its digits raised to the third power is equal to the number\"\"\"\r\n",
        "    for i in range(l):\r\n",
        "        k[i] = int(x[i])**l\r\n",
        "    sum1 = sum(k)\r\n",
        "    if(sum1 == n):\r\n",
        "        print(\"The number \"+ x +\" is an armstrong number.\")\r\n",
        "    else:\r\n",
        "        print(\"The number \"+ x +\" is not an armstrong number.\")"
      ],
      "execution_count": 7,
      "outputs": []
    },
    {
      "cell_type": "code",
      "metadata": {
        "id": "zyaVqBSkuio5"
      },
      "source": [
        ""
      ],
      "execution_count": null,
      "outputs": []
    }
  ]
}